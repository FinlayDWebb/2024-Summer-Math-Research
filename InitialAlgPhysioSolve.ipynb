{
 "cells": [
  {
   "cell_type": "code",
   "execution_count": 3,
   "metadata": {},
   "outputs": [],
   "source": [
    "\n",
    "import numpy as np\n",
    "from scipy.optimize import fsolve \n",
    "\n",
    "import matplotlib.pyplot as plt"
   ]
  },
  {
   "cell_type": "code",
   "execution_count": 11,
   "metadata": {},
   "outputs": [],
   "source": [
    "def electroneut(w, N_i, K_i, C_i, z_x, X):\n",
    "    electroneut = w * (N_i + K_i - C_i) + z_x * X\n",
    "\n",
    "    return electroneut\n",
    "\n",
    "def osmoticbal(N_i, K_i, C_i, X, w, N_b, K_b, C_b):\n",
    "    osmoticbal = N_b + K_b + C_b - N_i - K_i - C_i - (X / w)\n",
    "\n",
    "    return osmoticbal\n",
    "\n",
    "def NaKATPase(ni_0, K_na, P, na_1, K_k, ni_1, na_0):\n",
    "    NaKATPase = P * ((ni_0 / (K_na + ni_0))**3) * (na_1 / (K_k + na_1))**2\n",
    "\n",
    "    return NaKATPase\n",
    "\n",
    "def Cotransporter(M, ni_0, ni_1, ni_2, na_0, na_1, na_2):\n",
    "    Cotransporter =  M * np.log((ni_0 * ni_1 * (ni_2)**2)/(na_0 * na_1 * (na_2)**2))\n",
    "\n",
    "    return Cotransporter\n",
    "\n",
    "def CurrentEqnApical(z_x, F, J_)\n",
    "\n"
   ]
  },
  {
   "cell_type": "code",
   "execution_count": null,
   "metadata": {},
   "outputs": [],
   "source": [
    "# Standard parameters\n",
    "K_na = 0.02692677070828331 # 0.2 * ((1 + ni_1)/8.33)\n",
    "P = 1.0 # Non-dimensional\n",
    "na_1 = 0.005 # M\n",
    "K_k = 0.006054054054054055 # 0.1 * ((1 + na_0)/18.5)\n",
    "ni_1 = 0.1215 # M\n",
    "na_0 = 0.120 # M\n",
    "w = 1 # Non-dimensional\n",
    "\n",
    "# Unfinished list of parameters\n",
    "N_i = \n",
    "K_i =\n",
    "C_i = \n",
    "z_x = \n",
    "X = \n",
    "N_b =\n",
    "K_b = \n",
    "C_b =\n",
    "ni_0 =\n",
    "ni_2 = \n",
    "na_2 =\n",
    "M =\n",
    "F = "
   ]
  },
  {
   "cell_type": "code",
   "execution_count": null,
   "metadata": {},
   "outputs": [],
   "source": []
  }
 ],
 "metadata": {
  "kernelspec": {
   "display_name": "base",
   "language": "python",
   "name": "python3"
  },
  "language_info": {
   "codemirror_mode": {
    "name": "ipython",
    "version": 3
   },
   "file_extension": ".py",
   "mimetype": "text/x-python",
   "name": "python",
   "nbconvert_exporter": "python",
   "pygments_lexer": "ipython3",
   "version": "3.11.7"
  }
 },
 "nbformat": 4,
 "nbformat_minor": 2
}
