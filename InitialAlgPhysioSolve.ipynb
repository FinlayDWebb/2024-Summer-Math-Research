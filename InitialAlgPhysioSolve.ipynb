{
 "cells": [
  {
   "cell_type": "code",
   "execution_count": 39,
   "metadata": {},
   "outputs": [],
   "source": [
    "\n",
    "import numpy as np\n",
    "from scipy.optimize import fsolve \n",
    "\n",
    "import matplotlib.pyplot as plt"
   ]
  },
  {
   "cell_type": "code",
   "execution_count": 40,
   "metadata": {},
   "outputs": [],
   "source": [
    "def electroneut(N_i, K_i, C_i, z_x, X):\n",
    "    electroneut = (N_i + K_i - C_i) + z_x * X\n",
    "\n",
    "    return electroneut\n",
    "\n",
    "def osmoticbal(N_i, K_i, C_i, X, N_b, K_b, C_b, N_a, K_a, C_a):\n",
    "    osmoticbal = N_b + K_b + C_b - 2*(N_i + K_i + C_i + (X)) + N_a + K_a + C_a\n",
    "\n",
    "    return osmoticbal\n",
    "\n",
    "def NaKATPase(N_i, K_na, P, K_a, K_k, K_i, N_a):\n",
    "    NaKATPase = P * ((N_i / (K_na + N_i))**3) * (K_a / (K_k + K_a))**2\n",
    "\n",
    "    return NaKATPase\n",
    "\n",
    "def Cotransporter(M, N_i, K_i, C_i, N_a, K_a, C_a):\n",
    "    Cotransporter =  M * np.log((N_i * K_i * (C_i)**2)/(N_a * K_a * (C_a)**2))\n",
    "\n",
    "    return Cotransporter\n",
    "\n",
    "def GHKflux(z, Ps_k, Vsm, ns_k, nm_k):\n",
    "    frt = 37.435883507802615 # Using F, R and T from Mariia's paper\n",
    "    GHKflux = z * Ps_k * (frt) * Vsm * ((ns_k - nm_k * np.exp((-z * frt * Vsm)))/(1 - np.exp((-z * frt * Vsm))))\n",
    "\n",
    "    return GHKflux\n",
    "\n",
    "\n"
   ]
  },
  {
   "cell_type": "code",
   "execution_count": 41,
   "metadata": {},
   "outputs": [],
   "source": [
    "# Standard parameters\n",
    "P = 10**(-6) # Non-dimensional\n",
    "z_x = 1.5 # Non-dimensional\n",
    "M = 3 * 10**(-6)\n",
    "z_k = 1 # Non-dimensional\n",
    "z_c = -1 # Non-dimensional\n",
    "\n",
    "#Permeabilities\n",
    "Pa_K = 5*10**(-7)\n",
    "Pb_K = 1.5*10**(-7)\n",
    "Ptj_K = 10**(-6)\n",
    "Pa_C = 0\n",
    "Pb_C = 0.8*10**(-8)\n",
    "Ptj_C = 0\n",
    "\n",
    "#Concentration, and derived values\n",
    "N_a = 0.120\n",
    "K_a = 0.005 \n",
    "C_a = 0.125\n",
    "N_b = 0.120\n",
    "K_b =  0.005\n",
    "C_b = 0.125\n",
    "K_na = 0.02692677070828331 # 0.2 * ((1 + K_i)/8.33)\n",
    "K_k = 0.006054054054054055 # 0.1 * ((1 + N_a)/18.5)\n",
    "\n",
    "# Variables we want are: N_i, K_i, C_i, X, V"
   ]
  },
  {
   "cell_type": "code",
   "execution_count": 42,
   "metadata": {},
   "outputs": [
    {
     "name": "stdout",
     "output_type": "stream",
     "text": [
      "Solution: $Na_i$ = 0.018, $K_i$ = 0.12, $Cl_i$ = 0.05, V = 0.1, X = 0.014\n"
     ]
    },
    {
     "name": "stderr",
     "output_type": "stream",
     "text": [
      "/var/folders/kg/6qgzh1c962vg2xt2n9swng0h0000gn/T/ipykernel_53410/4182648224.py:17: RuntimeWarning: invalid value encountered in log\n",
      "  Cotransporter =  M * np.log((N_i * K_i * (C_i)**2)/(N_a * K_a * (C_a)**2))\n",
      "/opt/anaconda3/lib/python3.11/site-packages/scipy/optimize/_minpack_py.py:177: RuntimeWarning: The iteration is not making good progress, as measured by the \n",
      "  improvement from the last ten iterations.\n",
      "  warnings.warn(msg, RuntimeWarning)\n"
     ]
    }
   ],
   "source": [
    "#Defining the whole system\n",
    "\n",
    "def sys(vars, pars = None):\n",
    "    N_i, K_i, C_i, X, V = vars\n",
    "\n",
    "\n",
    "    eq1 = -3 * NaKATPase(N_i, K_na, P, K_a, K_k, K_i, N_a) + Cotransporter(M, N_i, K_i, C_i, N_a, K_a, C_a)\n",
    "    eq2 = -1 * GHKflux(z_k, Pa_K, V, K_i, K_a) - GHKflux(z_k, Pb_K, V, K_i, K_b) + 2 * NaKATPase(N_i, K_na, P, K_a, K_k, K_i, N_a) + Cotransporter(M, N_i, K_i, C_i, N_a, K_a, C_a)\n",
    "    eq3 = 2 * Cotransporter(M, N_i, K_i, C_i, N_a, K_a, C_a) - GHKflux(z_c, Pb_C, V, C_i, C_b)\n",
    "    eq4 = electroneut(N_i, K_i, C_i, z_x, X)\n",
    "    eq5 = osmoticbal(N_i, K_i, C_i, X, N_b, K_b, C_b, N_a, K_a, C_a)\n",
    "\n",
    "    return [eq1, eq2, eq3, eq4, eq5]\n",
    "\n",
    "#Initial guess\n",
    "initial_guess = [0.018, 0.120, 0.05, 0.1, 0.014]\n",
    "\n",
    "#Solving the system\n",
    "solution = fsolve(sys,initial_guess)\n",
    "\n",
    "print(f\"Solution: $Na_i$ = {solution[0]}, $K_i$ = {solution[1]}, $Cl_i$ = {solution[2]}, V = {solution[3]}, X = {solution[4]}\")"
   ]
  },
  {
   "cell_type": "code",
   "execution_count": null,
   "metadata": {},
   "outputs": [],
   "source": [
    "# Plot with fixed values to find error\n",
    "\n",
    "# Then unassume that voltage is same at bottom and top and solve for voltage at top and bottom."
   ]
  }
 ],
 "metadata": {
  "kernelspec": {
   "display_name": "base",
   "language": "python",
   "name": "python3"
  },
  "language_info": {
   "codemirror_mode": {
    "name": "ipython",
    "version": 3
   },
   "file_extension": ".py",
   "mimetype": "text/x-python",
   "name": "python",
   "nbconvert_exporter": "python",
   "pygments_lexer": "ipython3",
   "version": "3.11.7"
  }
 },
 "nbformat": 4,
 "nbformat_minor": 2
}
